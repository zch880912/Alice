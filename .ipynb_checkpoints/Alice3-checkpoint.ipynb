{
 "cells": [
  {
   "cell_type": "code",
   "execution_count": 1,
   "metadata": {
    "collapsed": true
   },
   "outputs": [],
   "source": [
    "import pandas as pd\n",
    "import numpy as np\n",
    "import matplotlib.pyplot as plt\n",
    "import nltk\n",
    "from nltk.corpus import stopwords\n",
    "import pandas as pd\n",
    "import numpy as np\n",
    "import sklearn as sk\n",
    "from sklearn.feature_extraction.text import HashingVectorizer,TfidfVectorizer\n",
    "from sklearn.feature_extraction.text import CountVectorizer\n",
    "from sklearn.grid_search import GridSearchCV\n",
    "from sklearn.linear_model import RidgeCV,Ridge,LinearRegression,SGDRegressor,LogisticRegression,SGDClassifier\n",
    "from sklearn.ensemble import RandomForestClassifier\n",
    "import dill\n",
    "from sklearn import pipeline\n",
    "import pickle\n",
    "from sklearn.decomposition import TruncatedSVD\n",
    "import re\n",
    "import itertools\n",
    "import collections\n",
    "import heapq\n",
    "from sklearn.cross_validation import train_test_split\n",
    "from sklearn.metrics import confusion_matrix\n",
    "from sklearn import svm"
   ]
  },
  {
   "cell_type": "code",
   "execution_count": 4,
   "metadata": {
    "collapsed": true
   },
   "outputs": [],
   "source": [
    "text_data=pd.read_csv('text_data',sep='|')\n",
    "text_data=text_data[text_data['direction']!='outbound']\n",
    "text_data['thread_id']=pd.to_numeric(text_data['thread_id'],errors='coerce')\n",
    "text_thread=pd.read_csv('text_thread',sep='|')\n",
    "text_thread_user=text_thread[text_thread['owner_type']=='User']\n",
    "text_data_user_applicant=pd.merge(text_data,text_thread,left_on='thread_id',right_on='id',how='left')\n",
    "text_data_user=text_data_user_applicant[text_data_user_applicant['owner_type']=='User']\n",
    "text_data_user=text_data_user.reset_index()\n",
    "text_data_user['owner_id']=text_data_user['owner_id'].apply(int)\n",
    "text_data_user['owner_id_str']=text_data_user['owner_id'].apply(str)"
   ]
  },
  {
   "cell_type": "code",
   "execution_count": null,
   "metadata": {
    "collapsed": false
   },
   "outputs": [],
   "source": []
  },
  {
   "cell_type": "code",
   "execution_count": 6,
   "metadata": {
    "collapsed": false
   },
   "outputs": [],
   "source": [
    "##user text dict\n",
    "user_text_dict={}\n",
    "for i in range(len(text_data_user)):\n",
    "    if text_data_user['owner_id_str'][i] in user_text_dict:\n",
    "        user_text_dict[text_data_user['owner_id_str'][i]]=' '.join([user_text_dict[text_data_user['owner_id_str'][i]],text_data_user['message'][i]])\n",
    "    else:\n",
    "        user_text_dict[text_data_user['owner_id_str'][i]]=text_data_user['message'][i]"
   ]
  },
  {
   "cell_type": "code",
   "execution_count": 7,
   "metadata": {
    "collapsed": false
   },
   "outputs": [
    {
     "name": "stderr",
     "output_type": "stream",
     "text": [
      "/Users/zhuchuanhai/anaconda/lib/python2.7/site-packages/ipykernel/__main__.py:6: SettingWithCopyWarning: \n",
      "A value is trying to be set on a copy of a slice from a DataFrame\n",
      "\n",
      "See the caveats in the documentation: http://pandas.pydata.org/pandas-docs/stable/indexing.html#indexing-view-versus-copy\n",
      "/Users/zhuchuanhai/anaconda/lib/python2.7/site-packages/pandas/core/indexing.py:117: SettingWithCopyWarning: \n",
      "A value is trying to be set on a copy of a slice from a DataFrame\n",
      "\n",
      "See the caveats in the documentation: http://pandas.pydata.org/pandas-docs/stable/indexing.html#indexing-view-versus-copy\n",
      "  self._setitem_with_indexer(indexer, value)\n",
      "/Users/zhuchuanhai/anaconda/lib/python2.7/site-packages/ipykernel/__main__.py:12: SettingWithCopyWarning: \n",
      "A value is trying to be set on a copy of a slice from a DataFrame\n",
      "\n",
      "See the caveats in the documentation: http://pandas.pydata.org/pandas-docs/stable/indexing.html#indexing-view-versus-copy\n"
     ]
    }
   ],
   "source": [
    "## charge_off\n",
    "charge_off_cases=pd.read_csv('charge_off_cases',sep='|')\n",
    "charge_off_cases['date']=0\n",
    "for i in range(0,len(charge_off_cases)):\n",
    "    try:\n",
    "        charge_off_cases['date'][i]=charge_off_cases['created_at'][i][0:10]\n",
    "    except:\n",
    "        pass\n",
    "charge_off_cases['month']=0\n",
    "for i in range(0,len(charge_off_cases)):\n",
    "    try:\n",
    "        charge_off_cases['month'][i]=charge_off_cases['created_at'][i][0:7]\n",
    "    except:\n",
    "        pass\n",
    "charge_off_cases=charge_off_cases.dropna(subset=['user_id'])\n",
    "charge_off_cases['user_id']=charge_off_cases['user_id'].apply(int)\n",
    "charge_off_cases['user_id_str']=charge_off_cases['user_id'].apply(str)\n",
    "charge_off_cases.head()\n",
    "charge_off_list=[user_id for user_id in charge_off_cases['user_id_str']]"
   ]
  },
  {
   "cell_type": "code",
   "execution_count": 8,
   "metadata": {
    "collapsed": false
   },
   "outputs": [
    {
     "name": "stderr",
     "output_type": "stream",
     "text": [
      "/Users/zhuchuanhai/anaconda/lib/python2.7/site-packages/ipykernel/__main__.py:4: SettingWithCopyWarning: \n",
      "A value is trying to be set on a copy of a slice from a DataFrame.\n",
      "Try using .loc[row_indexer,col_indexer] = value instead\n",
      "\n",
      "See the caveats in the documentation: http://pandas.pydata.org/pandas-docs/stable/indexing.html#indexing-view-versus-copy\n",
      "/Users/zhuchuanhai/anaconda/lib/python2.7/site-packages/ipykernel/__main__.py:5: SettingWithCopyWarning: \n",
      "A value is trying to be set on a copy of a slice from a DataFrame.\n",
      "Try using .loc[row_indexer,col_indexer] = value instead\n",
      "\n",
      "See the caveats in the documentation: http://pandas.pydata.org/pandas-docs/stable/indexing.html#indexing-view-versus-copy\n",
      "/Users/zhuchuanhai/anaconda/lib/python2.7/site-packages/ipykernel/__main__.py:9: SettingWithCopyWarning: \n",
      "A value is trying to be set on a copy of a slice from a DataFrame\n",
      "\n",
      "See the caveats in the documentation: http://pandas.pydata.org/pandas-docs/stable/indexing.html#indexing-view-versus-copy\n"
     ]
    }
   ],
   "source": [
    "##payment failed\n",
    "billing_events=pd.read_csv('billing_events',sep='|')\n",
    "billing_events_payment_failure=billing_events[billing_events['event_type']=='invoice.payment_failed']\n",
    "billing_events_payment_failure['user_id']=billing_events_payment_failure['user_id'].apply(int)\n",
    "billing_events_payment_failure['user_id_str']=billing_events_payment_failure['user_id'].apply(str)\n",
    "billing_events_payment_failure=billing_events_payment_failure.reset_index()\n",
    "billing_events_payment_failure['year-month']=0\n",
    "for i in range(len(billing_events_payment_failure)):\n",
    "    billing_events_payment_failure['year-month'][i]=billing_events_payment_failure['created_at'][i][0:7]\n",
    "pay_failed_cases_months=billing_events_payment_failure.groupby('year-month').agg(['count'])"
   ]
  },
  {
   "cell_type": "code",
   "execution_count": 9,
   "metadata": {
    "collapsed": false
   },
   "outputs": [
    {
     "name": "stdout",
     "output_type": "stream",
     "text": [
      "371\n",
      "426\n",
      "697\n"
     ]
    }
   ],
   "source": [
    "##payfail_dict\n",
    "payfail_count={}\n",
    "for i in range(len(billing_events_payment_failure)):\n",
    "    if billing_events_payment_failure['user_id_str'][i] in payfail_count:\n",
    "        payfail_count[billing_events_payment_failure['user_id_str'][i]]+=1\n",
    "    else:\n",
    "        payfail_count[billing_events_payment_failure['user_id_str'][i]]=1\n",
    "payfail_count=sorted(payfail_count.items(),key=lambda x:-x[1])\n",
    "\n",
    "##payfail_list\n",
    "payfail_list=[payfail_count[i][0]for i in range(len(payfail_count))]\n",
    "for i in range(len(charge_off_list)):\n",
    "    if charge_off_list[i] not in payfail_list:\n",
    "        print charge_off_list[i]\n",
    "        \n",
    "##payfailmorethan3\n",
    "payfailmore3=[]\n",
    "for user in payfail_count:\n",
    "    if user[1]>=3:\n",
    "        payfailmore3.append(user[0])\n",
    "year_count_payfailmorethan3={}\n",
    "for i in range(len(billing_events_payment_failure)):\n",
    "    if billing_events_payment_failure['user_id_str'][i] in payfailmore3:\n",
    "        if billing_events_payment_failure['year-month'][i] in year_count_payfailmorethan3:\n",
    "            year_count_payfailmorethan3[billing_events_payment_failure['year-month'][i]]+=1\n",
    "        else:\n",
    "            year_count_payfailmorethan3[billing_events_payment_failure['year-month'][i]]=1"
   ]
  },
  {
   "cell_type": "markdown",
   "metadata": {},
   "source": [
    "## Log Modeling"
   ]
  },
  {
   "cell_type": "code",
   "execution_count": 10,
   "metadata": {
    "collapsed": true
   },
   "outputs": [],
   "source": [
    "user_label_dict_3class={}\n",
    "user_label_list_3class=[]\n",
    "for user_id in user_text_dict:\n",
    "    if user_id in charge_off_list:\n",
    "        user_label_dict_3class[user_id]=-1\n",
    "        user_label_list_3class.append(-1)\n",
    "    elif user_id in payfailmore3 and user_id not in charge_off_list:\n",
    "        user_label_dict_3class[user_id]=0\n",
    "        user_label_list_3class.append(0)\n",
    "    else:\n",
    "        user_label_dict_3class[user_id]=1\n",
    "        user_label_list_3class.append(1)"
   ]
  },
  {
   "cell_type": "code",
   "execution_count": 11,
   "metadata": {
    "collapsed": true
   },
   "outputs": [],
   "source": [
    "X=[user_text_dict[i]for i in user_text_dict]\n",
    "y=user_label_list_3class\n",
    "X_train,X_test,y_train,y_test=train_test_split(X,y,test_size=0.2,random_state=40)"
   ]
  },
  {
   "cell_type": "code",
   "execution_count": 12,
   "metadata": {
    "collapsed": false
   },
   "outputs": [],
   "source": [
    "logmodel_3class=pipeline.Pipeline([('vect', CountVectorizer(stop_words='english')),\n",
    "    ('Log', LogisticRegression(penalty='l1',class_weight='auto')),\n",
    "])"
   ]
  },
  {
   "cell_type": "code",
   "execution_count": 13,
   "metadata": {
    "collapsed": false
   },
   "outputs": [
    {
     "data": {
      "text/plain": [
       "Pipeline(steps=[('vect', CountVectorizer(analyzer=u'word', binary=False, decode_error=u'strict',\n",
       "        dtype=<type 'numpy.int64'>, encoding=u'utf-8', input=u'content',\n",
       "        lowercase=True, max_df=1.0, max_features=None, min_df=1,\n",
       "        ngram_range=(1, 1), preprocessor=None, stop_words='english',\n",
       "     ...',\n",
       "          penalty='l1', random_state=None, solver='liblinear', tol=0.0001,\n",
       "          verbose=0))])"
      ]
     },
     "execution_count": 13,
     "metadata": {},
     "output_type": "execute_result"
    }
   ],
   "source": [
    "logmodel_3class.fit(X_train,y_train)"
   ]
  },
  {
   "cell_type": "code",
   "execution_count": null,
   "metadata": {
    "collapsed": true
   },
   "outputs": [],
   "source": []
  },
  {
   "cell_type": "code",
   "execution_count": 14,
   "metadata": {
    "collapsed": false
   },
   "outputs": [
    {
     "data": {
      "text/plain": [
       "array([[ 6,  1,  5],\n",
       "       [ 0,  9,  5],\n",
       "       [ 7, 12, 96]])"
      ]
     },
     "execution_count": 14,
     "metadata": {},
     "output_type": "execute_result"
    }
   ],
   "source": [
    "confusion_matrix(logmodel_3class.predict(X_test),y_test)"
   ]
  },
  {
   "cell_type": "code",
   "execution_count": 26,
   "metadata": {
    "collapsed": true
   },
   "outputs": [],
   "source": [
    "## draw confusion matrix plot\n",
    "% matplotlib inline\n",
    "def plot_confusion_matrix(cm, title, cmap=plt.cm.Blues):\n",
    "    plt.imshow(cm, interpolation='nearest', cmap=cmap)\n",
    "    plt.title(title)\n",
    "    plt.colorbar()\n",
    "    tick_marks = np.arange(len(['Risk','Volatile','Safe']))\n",
    "    plt.xticks(tick_marks, ['Risk','Volatile','Safe'])\n",
    "    plt.yticks(tick_marks, ['Risk','Volatile','Safe'])\n",
    "    plt.tight_layout()\n",
    "    plt.ylabel('Predicted label')\n",
    "    plt.xlabel('True label')"
   ]
  },
  {
   "cell_type": "code",
   "execution_count": 16,
   "metadata": {
    "collapsed": false
   },
   "outputs": [],
   "source": [
    "# plot_confusion_matrix(confusion_matrix(logmodel_3class.predict(X_test),y_test),'Log Model Test Set')"
   ]
  },
  {
   "cell_type": "code",
   "execution_count": 17,
   "metadata": {
    "collapsed": false
   },
   "outputs": [],
   "source": [
    "## small training-set\n",
    "small_X_not_safe=[user_text_dict[i]for i in user_text_dict if user_label_dict_3class[i]!=1]\n",
    "small_y_not_safe=[i for i in user_label_list_3class if i!=1 ]"
   ]
  },
  {
   "cell_type": "code",
   "execution_count": 18,
   "metadata": {
    "collapsed": false
   },
   "outputs": [],
   "source": [
    "small_X_safe=[user_text_dict[i]for i in user_text_dict if user_label_dict_3class[i]==1]"
   ]
  },
  {
   "cell_type": "code",
   "execution_count": 19,
   "metadata": {
    "collapsed": false
   },
   "outputs": [
    {
     "name": "stdout",
     "output_type": "stream",
     "text": [
      "318 318\n"
     ]
    }
   ],
   "source": [
    "small_X_train=small_X_not_safe\n",
    "for i in range(160):\n",
    "    small_X_train.append(small_X_safe[i])\n",
    "small_y_train=small_y_not_safe+[1 for i in range(160)]\n",
    "print len(small_X_not_safe),len(small_y_train)"
   ]
  },
  {
   "cell_type": "code",
   "execution_count": 20,
   "metadata": {
    "collapsed": true
   },
   "outputs": [],
   "source": [
    "logmodel_3class=pipeline.Pipeline([('vect', CountVectorizer(stop_words='english')),\n",
    "    ('Log', LogisticRegression(penalty='l1',class_weight='auto')),\n",
    "])"
   ]
  },
  {
   "cell_type": "code",
   "execution_count": 21,
   "metadata": {
    "collapsed": false
   },
   "outputs": [
    {
     "data": {
      "text/plain": [
       "Pipeline(steps=[('vect', CountVectorizer(analyzer=u'word', binary=False, decode_error=u'strict',\n",
       "        dtype=<type 'numpy.int64'>, encoding=u'utf-8', input=u'content',\n",
       "        lowercase=True, max_df=1.0, max_features=None, min_df=1,\n",
       "        ngram_range=(1, 1), preprocessor=None, stop_words='english',\n",
       "     ...',\n",
       "          penalty='l1', random_state=None, solver='liblinear', tol=0.0001,\n",
       "          verbose=0))])"
      ]
     },
     "execution_count": 21,
     "metadata": {},
     "output_type": "execute_result"
    }
   ],
   "source": [
    "logmodel_3class.fit(small_X_train,small_y_train)"
   ]
  },
  {
   "cell_type": "code",
   "execution_count": 27,
   "metadata": {
    "collapsed": false
   },
   "outputs": [
    {
     "data": {
      "text/plain": [
       "array([[13,  0,  6],\n",
       "       [ 0, 21, 11],\n",
       "       [ 0,  1, 89]])"
      ]
     },
     "execution_count": 27,
     "metadata": {},
     "output_type": "execute_result"
    }
   ],
   "source": [
    "confusion_matrix(logmodel_3class.predict(X_test),y_test)"
   ]
  },
  {
   "cell_type": "code",
   "execution_count": 28,
   "metadata": {
    "collapsed": false
   },
   "outputs": [
    {
     "data": {
      "image/png": "[encoded data removed]",
      "text/plain": [
       "<matplotlib.figure.Figure at 0x11f685c10>"
      ]
     },
     "metadata": {},
     "output_type": "display_data"
    }
   ],
   "source": [
    "plot_confusion_matrix(confusion_matrix(logmodel_3class.predict(X_test),y_test),'Log Model Test Set')"
   ]
  },
  {
   "cell_type": "code",
   "execution_count": 29,
   "metadata": {
    "collapsed": false
   },
   "outputs": [
    {
     "data": {
      "text/plain": [
       "array([[ 52,   4,  41],\n",
       "       [  0,  89,  68],\n",
       "       [  1,  12, 436]])"
      ]
     },
     "execution_count": 29,
     "metadata": {},
     "output_type": "execute_result"
    }
   ],
   "source": [
    "confusion_matrix(logmodel_3class.predict(X),y)"
   ]
  },
  {
   "cell_type": "code",
   "execution_count": 30,
   "metadata": {
    "collapsed": false
   },
   "outputs": [
    {
     "data": {
      "image/png": "[encoded data removed]",
      "text/plain": [
       "<matplotlib.figure.Figure at 0x121742e50>"
      ]
     },
     "metadata": {},
     "output_type": "display_data"
    }
   ],
   "source": [
    "plot_confusion_matrix(confusion_matrix(logmodel_3class.predict(X),y),'Log Model All Set')"
   ]
  },
  {
   "cell_type": "code",
   "execution_count": 166,
   "metadata": {
    "collapsed": true
   },
   "outputs": [],
   "source": [
    "## Grid_search\n",
    "parameters = {\n",
    "    'vect__max_features':(100,200,300),\n",
    "    'vect__ngram_range':((1,1),(1,2),(1,3)),\n",
    "    'Log__penalty': ('l1','l2'),\n",
    "}\n",
    "findpara=pipeline.Pipeline([('vect', CountVectorizer()),\n",
    "    ('Log', LogisticRegression(class_weight='auto')),])"
   ]
  },
  {
   "cell_type": "code",
   "execution_count": 167,
   "metadata": {
    "collapsed": true
   },
   "outputs": [],
   "source": [
    "grid_search=GridSearchCV(findpara,parameters,verbose=3)"
   ]
  },
  {
   "cell_type": "code",
   "execution_count": 168,
   "metadata": {
    "collapsed": false
   },
   "outputs": [
    {
     "name": "stdout",
     "output_type": "stream",
     "text": [
      "Fitting 3 folds for each of 18 candidates, totalling 54 fits\n",
      "[CV] vect__ngram_range=(1, 1), Log__penalty=l1, vect__max_features=100 \n",
      "[CV]  vect__ngram_range=(1, 1), Log__penalty=l1, vect__max_features=100, score=0.796296 -   0.8s\n",
      "[CV] vect__ngram_range=(1, 1), Log__penalty=l1, vect__max_features=100 \n"
     ]
    },
    {
     "name": "stderr",
     "output_type": "stream",
     "text": [
      "[Parallel(n_jobs=1)]: Done   1 jobs       | elapsed:    0.8s\n"
     ]
    },
    {
     "name": "stdout",
     "output_type": "stream",
     "text": [
      "[CV]  vect__ngram_range=(1, 1), Log__penalty=l1, vect__max_features=100, score=0.735849 -   0.7s\n",
      "[CV] vect__ngram_range=(1, 1), Log__penalty=l1, vect__max_features=100 \n",
      "[CV]  vect__ngram_range=(1, 1), Log__penalty=l1, vect__max_features=100, score=0.830189 -   0.8s\n",
      "[CV] vect__ngram_range=(1, 2), Log__penalty=l1, vect__max_features=100 \n",
      "[CV]  vect__ngram_range=(1, 2), Log__penalty=l1, vect__max_features=100, score=0.842593 -   1.8s\n",
      "[CV] vect__ngram_range=(1, 2), Log__penalty=l1, vect__max_features=100 \n",
      "[CV]  vect__ngram_range=(1, 2), Log__penalty=l1, vect__max_features=100, score=0.726415 -   1.6s\n",
      "[CV] vect__ngram_range=(1, 2), Log__penalty=l1, vect__max_features=100 \n",
      "[CV]  vect__ngram_range=(1, 2), Log__penalty=l1, vect__max_features=100, score=0.858491 -   1.9s\n",
      "[CV] vect__ngram_range=(1, 3), Log__penalty=l1, vect__max_features=100 \n",
      "[CV]  vect__ngram_range=(1, 3), Log__penalty=l1, vect__max_features=100, score=0.796296 -   3.1s\n",
      "[CV] vect__ngram_range=(1, 3), Log__penalty=l1, vect__max_features=100 \n",
      "[CV]  vect__ngram_range=(1, 3), Log__penalty=l1, vect__max_features=100, score=0.707547 -   2.4s\n",
      "[CV] vect__ngram_range=(1, 3), Log__penalty=l1, vect__max_features=100 \n",
      "[CV]  vect__ngram_range=(1, 3), Log__penalty=l1, vect__max_features=100, score=0.820755 -   3.0s\n",
      "[CV] vect__ngram_range=(1, 1), Log__penalty=l1, vect__max_features=200 \n",
      "[CV]  vect__ngram_range=(1, 1), Log__penalty=l1, vect__max_features=200, score=0.796296 -   0.7s\n",
      "[CV] vect__ngram_range=(1, 1), Log__penalty=l1, vect__max_features=200 \n",
      "[CV]  vect__ngram_range=(1, 1), Log__penalty=l1, vect__max_features=200, score=0.754717 -   0.6s\n",
      "[CV] vect__ngram_range=(1, 1), Log__penalty=l1, vect__max_features=200 \n",
      "[CV]  vect__ngram_range=(1, 1), Log__penalty=l1, vect__max_features=200, score=0.764151 -   0.7s\n",
      "[CV] vect__ngram_range=(1, 2), Log__penalty=l1, vect__max_features=200 \n",
      "[CV]  vect__ngram_range=(1, 2), Log__penalty=l1, vect__max_features=200, score=0.731481 -   1.8s\n",
      "[CV] vect__ngram_range=(1, 2), Log__penalty=l1, vect__max_features=200 \n",
      "[CV]  vect__ngram_range=(1, 2), Log__penalty=l1, vect__max_features=200, score=0.735849 -   1.7s\n",
      "[CV] vect__ngram_range=(1, 2), Log__penalty=l1, vect__max_features=200 \n",
      "[CV]  vect__ngram_range=(1, 2), Log__penalty=l1, vect__max_features=200, score=0.783019 -   2.1s\n",
      "[CV] vect__ngram_range=(1, 3), Log__penalty=l1, vect__max_features=200 \n",
      "[CV]  vect__ngram_range=(1, 3), Log__penalty=l1, vect__max_features=200, score=0.805556 -   3.1s\n",
      "[CV] vect__ngram_range=(1, 3), Log__penalty=l1, vect__max_features=200 \n",
      "[CV]  vect__ngram_range=(1, 3), Log__penalty=l1, vect__max_features=200, score=0.726415 -   2.4s\n",
      "[CV] vect__ngram_range=(1, 3), Log__penalty=l1, vect__max_features=200 \n",
      "[CV]  vect__ngram_range=(1, 3), Log__penalty=l1, vect__max_features=200, score=0.792453 -   3.3s\n",
      "[CV] vect__ngram_range=(1, 1), Log__penalty=l1, vect__max_features=300 \n",
      "[CV]  vect__ngram_range=(1, 1), Log__penalty=l1, vect__max_features=300, score=0.805556 -   0.7s\n",
      "[CV] vect__ngram_range=(1, 1), Log__penalty=l1, vect__max_features=300 \n",
      "[CV]  vect__ngram_range=(1, 1), Log__penalty=l1, vect__max_features=300, score=0.726415 -   0.6s\n",
      "[CV] vect__ngram_range=(1, 1), Log__penalty=l1, vect__max_features=300 \n",
      "[CV]  vect__ngram_range=(1, 1), Log__penalty=l1, vect__max_features=300, score=0.792453 -   0.6s\n",
      "[CV] vect__ngram_range=(1, 2), Log__penalty=l1, vect__max_features=300 \n",
      "[CV]  vect__ngram_range=(1, 2), Log__penalty=l1, vect__max_features=300, score=0.759259 -   1.7s\n",
      "[CV] vect__ngram_range=(1, 2), Log__penalty=l1, vect__max_features=300 \n",
      "[CV]  vect__ngram_range=(1, 2), Log__penalty=l1, vect__max_features=300, score=0.726415 -   1.5s\n",
      "[CV] vect__ngram_range=(1, 2), Log__penalty=l1, vect__max_features=300 \n",
      "[CV]  vect__ngram_range=(1, 2), Log__penalty=l1, vect__max_features=300, score=0.783019 -   1.8s\n",
      "[CV] vect__ngram_range=(1, 3), Log__penalty=l1, vect__max_features=300 \n",
      "[CV]  vect__ngram_range=(1, 3), Log__penalty=l1, vect__max_features=300, score=0.722222 -   3.0s\n",
      "[CV] vect__ngram_range=(1, 3), Log__penalty=l1, vect__max_features=300 \n",
      "[CV]  vect__ngram_range=(1, 3), Log__penalty=l1, vect__max_features=300, score=0.716981 -   2.4s\n",
      "[CV] vect__ngram_range=(1, 3), Log__penalty=l1, vect__max_features=300 \n",
      "[CV]  vect__ngram_range=(1, 3), Log__penalty=l1, vect__max_features=300, score=0.783019 -   3.3s\n",
      "[CV] vect__ngram_range=(1, 1), Log__penalty=l2, vect__max_features=100 \n",
      "[CV]  vect__ngram_range=(1, 1), Log__penalty=l2, vect__max_features=100, score=0.731481 -   0.6s\n",
      "[CV] vect__ngram_range=(1, 1), Log__penalty=l2, vect__max_features=100 \n",
      "[CV]  vect__ngram_range=(1, 1), Log__penalty=l2, vect__max_features=100, score=0.726415 -   0.6s\n",
      "[CV] vect__ngram_range=(1, 1), Log__penalty=l2, vect__max_features=100 \n",
      "[CV]  vect__ngram_range=(1, 1), Log__penalty=l2, vect__max_features=100, score=0.773585 -   0.6s\n",
      "[CV] vect__ngram_range=(1, 2), Log__penalty=l2, vect__max_features=100 \n",
      "[CV]  vect__ngram_range=(1, 2), Log__penalty=l2, vect__max_features=100, score=0.777778 -   1.6s\n",
      "[CV] vect__ngram_range=(1, 2), Log__penalty=l2, vect__max_features=100 \n",
      "[CV]  vect__ngram_range=(1, 2), Log__penalty=l2, vect__max_features=100, score=0.745283 -   1.4s\n",
      "[CV] vect__ngram_range=(1, 2), Log__penalty=l2, vect__max_features=100 \n"
     ]
    },
    {
     "name": "stderr",
     "output_type": "stream",
     "text": [
      "[Parallel(n_jobs=1)]: Done  32 jobs       | elapsed:   53.6s\n"
     ]
    },
    {
     "name": "stdout",
     "output_type": "stream",
     "text": [
      "[CV]  vect__ngram_range=(1, 2), Log__penalty=l2, vect__max_features=100, score=0.792453 -   1.7s\n",
      "[CV] vect__ngram_range=(1, 3), Log__penalty=l2, vect__max_features=100 \n",
      "[CV]  vect__ngram_range=(1, 3), Log__penalty=l2, vect__max_features=100, score=0.759259 -   2.9s\n",
      "[CV] vect__ngram_range=(1, 3), Log__penalty=l2, vect__max_features=100 \n",
      "[CV]  vect__ngram_range=(1, 3), Log__penalty=l2, vect__max_features=100, score=0.726415 -   2.3s\n",
      "[CV] vect__ngram_range=(1, 3), Log__penalty=l2, vect__max_features=100 \n",
      "[CV]  vect__ngram_range=(1, 3), Log__penalty=l2, vect__max_features=100, score=0.811321 -   3.0s\n",
      "[CV] vect__ngram_range=(1, 1), Log__penalty=l2, vect__max_features=200 \n",
      "[CV]  vect__ngram_range=(1, 1), Log__penalty=l2, vect__max_features=200, score=0.703704 -   0.6s\n",
      "[CV] vect__ngram_range=(1, 1), Log__penalty=l2, vect__max_features=200 \n",
      "[CV]  vect__ngram_range=(1, 1), Log__penalty=l2, vect__max_features=200, score=0.716981 -   0.6s\n",
      "[CV] vect__ngram_range=(1, 1), Log__penalty=l2, vect__max_features=200 \n",
      "[CV]  vect__ngram_range=(1, 1), Log__penalty=l2, vect__max_features=200, score=0.745283 -   0.6s\n",
      "[CV] vect__ngram_range=(1, 2), Log__penalty=l2, vect__max_features=200 \n",
      "[CV]  vect__ngram_range=(1, 2), Log__penalty=l2, vect__max_features=200, score=0.731481 -   1.6s\n",
      "[CV] vect__ngram_range=(1, 2), Log__penalty=l2, vect__max_features=200 \n",
      "[CV]  vect__ngram_range=(1, 2), Log__penalty=l2, vect__max_features=200, score=0.707547 -   1.4s\n",
      "[CV] vect__ngram_range=(1, 2), Log__penalty=l2, vect__max_features=200 \n",
      "[CV]  vect__ngram_range=(1, 2), Log__penalty=l2, vect__max_features=200, score=0.801887 -   1.6s\n",
      "[CV] vect__ngram_range=(1, 3), Log__penalty=l2, vect__max_features=200 \n",
      "[CV]  vect__ngram_range=(1, 3), Log__penalty=l2, vect__max_features=200, score=0.740741 -   2.9s\n",
      "[CV] vect__ngram_range=(1, 3), Log__penalty=l2, vect__max_features=200 \n",
      "[CV]  vect__ngram_range=(1, 3), Log__penalty=l2, vect__max_features=200, score=0.726415 -   2.3s\n",
      "[CV] vect__ngram_range=(1, 3), Log__penalty=l2, vect__max_features=200 \n",
      "[CV]  vect__ngram_range=(1, 3), Log__penalty=l2, vect__max_features=200, score=0.801887 -   2.9s\n",
      "[CV] vect__ngram_range=(1, 1), Log__penalty=l2, vect__max_features=300 \n",
      "[CV]  vect__ngram_range=(1, 1), Log__penalty=l2, vect__max_features=300, score=0.750000 -   0.6s\n",
      "[CV] vect__ngram_range=(1, 1), Log__penalty=l2, vect__max_features=300 \n",
      "[CV]  vect__ngram_range=(1, 1), Log__penalty=l2, vect__max_features=300, score=0.726415 -   0.6s\n",
      "[CV] vect__ngram_range=(1, 1), Log__penalty=l2, vect__max_features=300 \n",
      "[CV]  vect__ngram_range=(1, 1), Log__penalty=l2, vect__max_features=300, score=0.754717 -   0.6s\n",
      "[CV] vect__ngram_range=(1, 2), Log__penalty=l2, vect__max_features=300 \n",
      "[CV]  vect__ngram_range=(1, 2), Log__penalty=l2, vect__max_features=300, score=0.750000 -   1.6s\n",
      "[CV] vect__ngram_range=(1, 2), Log__penalty=l2, vect__max_features=300 \n",
      "[CV]  vect__ngram_range=(1, 2), Log__penalty=l2, vect__max_features=300, score=0.735849 -   1.4s\n",
      "[CV] vect__ngram_range=(1, 2), Log__penalty=l2, vect__max_features=300 \n",
      "[CV]  vect__ngram_range=(1, 2), Log__penalty=l2, vect__max_features=300, score=0.764151 -   1.6s\n",
      "[CV] vect__ngram_range=(1, 3), Log__penalty=l2, vect__max_features=300 \n",
      "[CV]  vect__ngram_range=(1, 3), Log__penalty=l2, vect__max_features=300, score=0.694444 -   2.8s\n",
      "[CV] vect__ngram_range=(1, 3), Log__penalty=l2, vect__max_features=300 \n",
      "[CV]  vect__ngram_range=(1, 3), Log__penalty=l2, vect__max_features=300, score=0.716981 -   2.2s\n",
      "[CV] vect__ngram_range=(1, 3), Log__penalty=l2, vect__max_features=300 \n",
      "[CV]  vect__ngram_range=(1, 3), Log__penalty=l2, vect__max_features=300, score=0.783019 -   3.0s\n"
     ]
    },
    {
     "name": "stderr",
     "output_type": "stream",
     "text": [
      "[Parallel(n_jobs=1)]: Done  54 out of  54 | elapsed:  1.5min finished\n"
     ]
    },
    {
     "data": {
      "text/plain": [
       "GridSearchCV(cv=None, error_score='raise',\n",
       "       estimator=Pipeline(steps=[('vect', CountVectorizer(analyzer=u'word', binary=False, decode_error=u'strict',\n",
       "        dtype=<type 'numpy.int64'>, encoding=u'utf-8', input=u'content',\n",
       "        lowercase=True, max_df=1.0, max_features=None, min_df=1,\n",
       "        ngram_range=(1, 1), preprocessor=None, stop_words=None,\n",
       "        st...',\n",
       "          penalty='l2', random_state=None, solver='liblinear', tol=0.0001,\n",
       "          verbose=0))]),\n",
       "       fit_params={}, iid=True, loss_func=None, n_jobs=1,\n",
       "       param_grid={'vect__ngram_range': ((1, 1), (1, 2), (1, 3)), 'Log__penalty': ('l1', 'l2'), 'vect__max_features': (100, 200, 300)},\n",
       "       pre_dispatch='2*n_jobs', refit=True, score_func=None, scoring=None,\n",
       "       verbose=3)"
      ]
     },
     "execution_count": 168,
     "metadata": {},
     "output_type": "execute_result"
    }
   ],
   "source": [
    "grid_search.fit(small_X_train,small_y_train)"
   ]
  },
  {
   "cell_type": "code",
   "execution_count": 169,
   "metadata": {
    "collapsed": false
   },
   "outputs": [
    {
     "data": {
      "text/plain": [
       "0.80937499999999996"
      ]
     },
     "execution_count": 169,
     "metadata": {},
     "output_type": "execute_result"
    }
   ],
   "source": [
    "grid_search.best_score_"
   ]
  },
  {
   "cell_type": "code",
   "execution_count": 170,
   "metadata": {
    "collapsed": false
   },
   "outputs": [
    {
     "data": {
      "text/plain": [
       "{'Log__penalty': 'l1', 'vect__max_features': 100, 'vect__ngram_range': (1, 2)}"
      ]
     },
     "execution_count": 170,
     "metadata": {},
     "output_type": "execute_result"
    }
   ],
   "source": [
    "grid_search.best_params_"
   ]
  },
  {
   "cell_type": "markdown",
   "metadata": {},
   "source": [
    "## SVM"
   ]
  },
  {
   "cell_type": "code",
   "execution_count": 31,
   "metadata": {
    "collapsed": false
   },
   "outputs": [],
   "source": [
    "from sklearn.decomposition import PCA\n",
    "svmmodel_3class=pipeline.Pipeline([('vect', CountVectorizer(stop_words='english')),\n",
    "    ('svm', svm.SVC(kernel='linear',class_weight='auto',C=1)),\n",
    "])"
   ]
  },
  {
   "cell_type": "code",
   "execution_count": 32,
   "metadata": {
    "collapsed": false
   },
   "outputs": [
    {
     "data": {
      "text/plain": [
       "Pipeline(steps=[('vect', CountVectorizer(analyzer=u'word', binary=False, decode_error=u'strict',\n",
       "        dtype=<type 'numpy.int64'>, encoding=u'utf-8', input=u'content',\n",
       "        lowercase=True, max_df=1.0, max_features=None, min_df=1,\n",
       "        ngram_range=(1, 1), preprocessor=None, stop_words='english',\n",
       "     ...r', max_iter=-1, probability=False, random_state=None,\n",
       "  shrinking=True, tol=0.001, verbose=False))])"
      ]
     },
     "execution_count": 32,
     "metadata": {},
     "output_type": "execute_result"
    }
   ],
   "source": [
    "svmmodel_3class.fit(small_X_train,small_y_train)"
   ]
  },
  {
   "cell_type": "code",
   "execution_count": 33,
   "metadata": {
    "collapsed": false
   },
   "outputs": [
    {
     "data": {
      "text/plain": [
       "array([[13,  0,  8],\n",
       "       [ 0, 22, 12],\n",
       "       [ 0,  0, 86]])"
      ]
     },
     "execution_count": 33,
     "metadata": {},
     "output_type": "execute_result"
    }
   ],
   "source": [
    "confusion_matrix(svmmodel_3class.predict(X_test),y_test)"
   ]
  },
  {
   "cell_type": "code",
   "execution_count": 34,
   "metadata": {
    "collapsed": false
   },
   "outputs": [
    {
     "data": {
      "image/png": "[encoded data removed]",
      "text/plain": [
       "<matplotlib.figure.Figure at 0x11f216410>"
      ]
     },
     "metadata": {},
     "output_type": "display_data"
    }
   ],
   "source": [
    "plot_confusion_matrix(confusion_matrix(svmmodel_3class.predict(X_test),y_test),'SVM Model All Set')"
   ]
  },
  {
   "cell_type": "code",
   "execution_count": 35,
   "metadata": {
    "collapsed": false
   },
   "outputs": [
    {
     "data": {
      "text/plain": [
       "array([[ 53,   0,  54],\n",
       "       [  0, 104,  79],\n",
       "       [  0,   1, 412]])"
      ]
     },
     "execution_count": 35,
     "metadata": {},
     "output_type": "execute_result"
    }
   ],
   "source": [
    "confusion_matrix(svmmodel_3class.predict(X),y)"
   ]
  },
  {
   "cell_type": "code",
   "execution_count": 36,
   "metadata": {
    "collapsed": false
   },
   "outputs": [
    {
     "data": {
      "image/png": "[encoded data removed]",
      "text/plain": [
       "<matplotlib.figure.Figure at 0x1078e3190>"
      ]
     },
     "metadata": {},
     "output_type": "display_data"
    }
   ],
   "source": [
    "plot_confusion_matrix(confusion_matrix(svmmodel_3class.predict(X),y),'SVM Model All Set')"
   ]
  },
  {
   "cell_type": "markdown",
   "metadata": {},
   "source": [
    "## Random Forest"
   ]
  },
  {
   "cell_type": "code",
   "execution_count": 54,
   "metadata": {
    "collapsed": true
   },
   "outputs": [],
   "source": [
    "##try max_featrues=100效果还可以\n",
    "rfmodel_3class=pipeline.Pipeline([('vect', CountVectorizer(stop_words='english',max_features=100)),\n",
    "    ('svm', RandomForestClassifier(n_estimators=500,max_features='sqrt')),\n",
    "])"
   ]
  },
  {
   "cell_type": "code",
   "execution_count": 55,
   "metadata": {
    "collapsed": false
   },
   "outputs": [
    {
     "data": {
      "text/plain": [
       "Pipeline(steps=[('vect', CountVectorizer(analyzer=u'word', binary=False, decode_error=u'strict',\n",
       "        dtype=<type 'numpy.int64'>, encoding=u'utf-8', input=u'content',\n",
       "        lowercase=True, max_df=1.0, max_features=100, min_df=1,\n",
       "        ngram_range=(1, 1), preprocessor=None, stop_words='english',\n",
       "      ...n_jobs=1,\n",
       "            oob_score=False, random_state=None, verbose=0,\n",
       "            warm_start=False))])"
      ]
     },
     "execution_count": 55,
     "metadata": {},
     "output_type": "execute_result"
    }
   ],
   "source": [
    "rfmodel_3class.fit(small_X_train,small_y_train)"
   ]
  },
  {
   "cell_type": "code",
   "execution_count": 56,
   "metadata": {
    "collapsed": false
   },
   "outputs": [
    {
     "data": {
      "text/plain": [
       "array([[13,  0,  5],\n",
       "       [ 0, 22, 13],\n",
       "       [ 0,  0, 88]])"
      ]
     },
     "execution_count": 56,
     "metadata": {},
     "output_type": "execute_result"
    }
   ],
   "source": [
    "confusion_matrix(rfmodel_3class.predict(X_test),y_test)"
   ]
  },
  {
   "cell_type": "code",
   "execution_count": 57,
   "metadata": {
    "collapsed": false
   },
   "outputs": [
    {
     "data": {
      "image/png": "[encoded data removed]",
      "text/plain": [
       "<matplotlib.figure.Figure at 0x1215ccd90>"
      ]
     },
     "metadata": {},
     "output_type": "display_data"
    }
   ],
   "source": [
    "plot_confusion_matrix(confusion_matrix(rfmodel_3class.predict(X),y),'RandomForest Model Test Set')"
   ]
  },
  {
   "cell_type": "code",
   "execution_count": 58,
   "metadata": {
    "collapsed": false
   },
   "outputs": [
    {
     "data": {
      "text/plain": [
       "array([[ 53,   0,  40],\n",
       "       [  0, 103,  59],\n",
       "       [  0,   2, 446]])"
      ]
     },
     "execution_count": 58,
     "metadata": {},
     "output_type": "execute_result"
    }
   ],
   "source": [
    "confusion_matrix(rfmodel_3class.predict(X),y)"
   ]
  },
  {
   "cell_type": "code",
   "execution_count": 59,
   "metadata": {
    "collapsed": false
   },
   "outputs": [
    {
     "data": {
      "image/png": "[encoded data removed]",
      "text/plain": [
       "<matplotlib.figure.Figure at 0x1226be510>"
      ]
     },
     "metadata": {},
     "output_type": "display_data"
    }
   ],
   "source": [
    "plot_confusion_matrix(confusion_matrix(rfmodel_3class.predict(X),y),'RandomForest Model All Set')"
   ]
  },
  {
   "cell_type": "code",
   "execution_count": 272,
   "metadata": {
    "collapsed": true
   },
   "outputs": [],
   "source": [
    "parameters2 = {\n",
    "    'rf__n_estimators': (10,100,500,1000),\n",
    "    'rf__max_features': ('auto','sqrt','log2'),\n",
    "}\n",
    "findpara2=pipeline.Pipeline([('vect', CountVectorizer()),\n",
    "    ('rf', RandomForestClassifier()),])"
   ]
  },
  {
   "cell_type": "code",
   "execution_count": 273,
   "metadata": {
    "collapsed": true
   },
   "outputs": [],
   "source": [
    "grid_search2=GridSearchCV(findpara2,parameters2,verbose=3)"
   ]
  },
  {
   "cell_type": "code",
   "execution_count": 274,
   "metadata": {
    "collapsed": false
   },
   "outputs": [
    {
     "name": "stdout",
     "output_type": "stream",
     "text": [
      "Fitting 3 folds for each of 12 candidates, totalling 36 fits\n",
      "[CV] rf__n_estimators=10, rf__max_features=auto ......................\n",
      "[CV]  rf__n_estimators=10, rf__max_features=auto, score=0.759259 -   0.6s\n",
      "[CV] rf__n_estimators=10, rf__max_features=auto ......................\n"
     ]
    },
    {
     "name": "stderr",
     "output_type": "stream",
     "text": [
      "[Parallel(n_jobs=1)]: Done   1 jobs       | elapsed:    0.6s\n"
     ]
    },
    {
     "name": "stdout",
     "output_type": "stream",
     "text": [
      "[CV]  rf__n_estimators=10, rf__max_features=auto, score=0.792453 -   0.6s\n",
      "[CV] rf__n_estimators=10, rf__max_features=auto ......................\n",
      "[CV]  rf__n_estimators=10, rf__max_features=auto, score=0.716981 -   0.6s\n",
      "[CV] rf__n_estimators=100, rf__max_features=auto .....................\n",
      "[CV]  rf__n_estimators=100, rf__max_features=auto, score=0.861111 -   0.8s\n",
      "[CV] rf__n_estimators=100, rf__max_features=auto .....................\n",
      "[CV]  rf__n_estimators=100, rf__max_features=auto, score=0.830189 -   0.6s\n",
      "[CV] rf__n_estimators=100, rf__max_features=auto .....................\n",
      "[CV]  rf__n_estimators=100, rf__max_features=auto, score=0.773585 -   0.8s\n",
      "[CV] rf__n_estimators=500, rf__max_features=auto .....................\n",
      "[CV]  rf__n_estimators=500, rf__max_features=auto, score=0.851852 -   1.5s\n",
      "[CV] rf__n_estimators=500, rf__max_features=auto .....................\n",
      "[CV]  rf__n_estimators=500, rf__max_features=auto, score=0.839623 -   1.1s\n",
      "[CV] rf__n_estimators=500, rf__max_features=auto .....................\n",
      "[CV]  rf__n_estimators=500, rf__max_features=auto, score=0.754717 -   1.6s\n",
      "[CV] rf__n_estimators=1000, rf__max_features=auto ....................\n",
      "[CV]  rf__n_estimators=1000, rf__max_features=auto, score=0.861111 -   2.6s\n",
      "[CV] rf__n_estimators=1000, rf__max_features=auto ....................\n",
      "[CV]  rf__n_estimators=1000, rf__max_features=auto, score=0.839623 -   1.6s\n",
      "[CV] rf__n_estimators=1000, rf__max_features=auto ....................\n",
      "[CV]  rf__n_estimators=1000, rf__max_features=auto, score=0.745283 -   2.5s\n",
      "[CV] rf__n_estimators=10, rf__max_features=sqrt ......................\n",
      "[CV]  rf__n_estimators=10, rf__max_features=sqrt, score=0.777778 -   0.6s\n",
      "[CV] rf__n_estimators=10, rf__max_features=sqrt ......................\n",
      "[CV]  rf__n_estimators=10, rf__max_features=sqrt, score=0.830189 -   0.5s\n",
      "[CV] rf__n_estimators=10, rf__max_features=sqrt ......................\n",
      "[CV]  rf__n_estimators=10, rf__max_features=sqrt, score=0.764151 -   0.6s\n",
      "[CV] rf__n_estimators=100, rf__max_features=sqrt .....................\n",
      "[CV]  rf__n_estimators=100, rf__max_features=sqrt, score=0.879630 -   0.7s\n",
      "[CV] rf__n_estimators=100, rf__max_features=sqrt .....................\n",
      "[CV]  rf__n_estimators=100, rf__max_features=sqrt, score=0.839623 -   0.6s\n",
      "[CV] rf__n_estimators=100, rf__max_features=sqrt .....................\n",
      "[CV]  rf__n_estimators=100, rf__max_features=sqrt, score=0.764151 -   0.8s\n",
      "[CV] rf__n_estimators=500, rf__max_features=sqrt .....................\n",
      "[CV]  rf__n_estimators=500, rf__max_features=sqrt, score=0.861111 -   1.5s\n",
      "[CV] rf__n_estimators=500, rf__max_features=sqrt .....................\n",
      "[CV]  rf__n_estimators=500, rf__max_features=sqrt, score=0.849057 -   1.1s\n",
      "[CV] rf__n_estimators=500, rf__max_features=sqrt .....................\n",
      "[CV]  rf__n_estimators=500, rf__max_features=sqrt, score=0.773585 -   1.5s\n",
      "[CV] rf__n_estimators=1000, rf__max_features=sqrt ....................\n",
      "[CV]  rf__n_estimators=1000, rf__max_features=sqrt, score=0.870370 -   2.6s\n",
      "[CV] rf__n_estimators=1000, rf__max_features=sqrt ....................\n",
      "[CV]  rf__n_estimators=1000, rf__max_features=sqrt, score=0.849057 -   1.8s\n",
      "[CV] rf__n_estimators=1000, rf__max_features=sqrt ....................\n",
      "[CV]  rf__n_estimators=1000, rf__max_features=sqrt, score=0.773585 -   2.6s\n",
      "[CV] rf__n_estimators=10, rf__max_features=log2 ......................\n",
      "[CV]  rf__n_estimators=10, rf__max_features=log2, score=0.731481 -   0.6s\n",
      "[CV] rf__n_estimators=10, rf__max_features=log2 ......................\n",
      "[CV]  rf__n_estimators=10, rf__max_features=log2, score=0.716981 -   0.5s\n",
      "[CV] rf__n_estimators=10, rf__max_features=log2 ......................\n",
      "[CV]  rf__n_estimators=10, rf__max_features=log2, score=0.764151 -   0.5s\n",
      "[CV] rf__n_estimators=100, rf__max_features=log2 .....................\n",
      "[CV]  rf__n_estimators=100, rf__max_features=log2, score=0.740741 -   0.7s\n",
      "[CV] rf__n_estimators=100, rf__max_features=log2 .....................\n",
      "[CV]  rf__n_estimators=100, rf__max_features=log2, score=0.754717 -   0.6s\n",
      "[CV] rf__n_estimators=100, rf__max_features=log2 .....................\n",
      "[CV]  rf__n_estimators=100, rf__max_features=log2, score=0.726415 -   0.7s\n",
      "[CV] rf__n_estimators=500, rf__max_features=log2 .....................\n",
      "[CV]  rf__n_estimators=500, rf__max_features=log2, score=0.796296 -   1.2s\n",
      "[CV] rf__n_estimators=500, rf__max_features=log2 .....................\n",
      "[CV]  rf__n_estimators=500, rf__max_features=log2, score=0.773585 -   1.1s\n",
      "[CV] rf__n_estimators=500, rf__max_features=log2 .....................\n"
     ]
    },
    {
     "name": "stderr",
     "output_type": "stream",
     "text": [
      "[Parallel(n_jobs=1)]: Done  32 jobs       | elapsed:   35.8s\n"
     ]
    },
    {
     "name": "stdout",
     "output_type": "stream",
     "text": [
      "[CV]  rf__n_estimators=500, rf__max_features=log2, score=0.716981 -   1.5s\n",
      "[CV] rf__n_estimators=1000, rf__max_features=log2 ....................\n",
      "[CV]  rf__n_estimators=1000, rf__max_features=log2, score=0.805556 -   2.1s\n",
      "[CV] rf__n_estimators=1000, rf__max_features=log2 ....................\n",
      "[CV]  rf__n_estimators=1000, rf__max_features=log2, score=0.773585 -   1.6s\n",
      "[CV] rf__n_estimators=1000, rf__max_features=log2 ....................\n",
      "[CV]  rf__n_estimators=1000, rf__max_features=log2, score=0.716981 -   1.9s\n"
     ]
    },
    {
     "name": "stderr",
     "output_type": "stream",
     "text": [
      "[Parallel(n_jobs=1)]: Done  36 out of  36 | elapsed:   42.9s finished\n"
     ]
    },
    {
     "data": {
      "text/plain": [
       "GridSearchCV(cv=None, error_score='raise',\n",
       "       estimator=Pipeline(steps=[('vect', CountVectorizer(analyzer=u'word', binary=False, decode_error=u'strict',\n",
       "        dtype=<type 'numpy.int64'>, encoding=u'utf-8', input=u'content',\n",
       "        lowercase=True, max_df=1.0, max_features=None, min_df=1,\n",
       "        ngram_range=(1, 1), preprocessor=None, stop_words=None,\n",
       "        st...n_jobs=1,\n",
       "            oob_score=False, random_state=None, verbose=0,\n",
       "            warm_start=False))]),\n",
       "       fit_params={}, iid=True, loss_func=None, n_jobs=1,\n",
       "       param_grid={'rf__max_features': ('auto', 'sqrt', 'log2'), 'rf__n_estimators': (10, 100, 500, 1000)},\n",
       "       pre_dispatch='2*n_jobs', refit=True, score_func=None, scoring=None,\n",
       "       verbose=3)"
      ]
     },
     "execution_count": 274,
     "metadata": {},
     "output_type": "execute_result"
    }
   ],
   "source": [
    "grid_search2.fit(small_X_train,small_y_train)"
   ]
  },
  {
   "cell_type": "code",
   "execution_count": 275,
   "metadata": {
    "collapsed": false
   },
   "outputs": [
    {
     "data": {
      "text/plain": [
       "0.83125000000000004"
      ]
     },
     "execution_count": 275,
     "metadata": {},
     "output_type": "execute_result"
    }
   ],
   "source": [
    "grid_search2.best_score_"
   ]
  },
  {
   "cell_type": "code",
   "execution_count": 276,
   "metadata": {
    "collapsed": false
   },
   "outputs": [
    {
     "data": {
      "text/plain": [
       "{'rf__max_features': 'sqrt', 'rf__n_estimators': 1000}"
      ]
     },
     "execution_count": 276,
     "metadata": {},
     "output_type": "execute_result"
    }
   ],
   "source": [
    "grid_search2.best_params_"
   ]
  },
  {
   "cell_type": "markdown",
   "metadata": {},
   "source": [
    "## PCA"
   ]
  },
  {
   "cell_type": "code",
   "execution_count": 43,
   "metadata": {
    "collapsed": true
   },
   "outputs": [],
   "source": [
    "import matplotlib.pyplot as plt"
   ]
  },
  {
   "cell_type": "code",
   "execution_count": 44,
   "metadata": {
    "collapsed": true
   },
   "outputs": [],
   "source": [
    "pca=PCA(n_components=2)\n",
    "countvec=CountVectorizer(stop_words='english')"
   ]
  },
  {
   "cell_type": "code",
   "execution_count": 45,
   "metadata": {
    "collapsed": false
   },
   "outputs": [],
   "source": [
    "X_countvec=countvec.fit_transform(X)\n",
    "X_countvectoarray=X_countvec.toarray()\n",
    "X_pca=pca.fit(X_countvectoarray).transform(X_countvectoarray)"
   ]
  },
  {
   "cell_type": "code",
   "execution_count": 46,
   "metadata": {
    "collapsed": true
   },
   "outputs": [],
   "source": [
    "np.argmax(X_pca[:,0])\n",
    "X_pca[:,0][343]=np.mean(X_pca[:,0])"
   ]
  },
  {
   "cell_type": "code",
   "execution_count": 47,
   "metadata": {
    "collapsed": false
   },
   "outputs": [
    {
     "name": "stdout",
     "output_type": "stream",
     "text": [
      "38357.4104308\n"
     ]
    }
   ],
   "source": [
    "print max(X_pca[:,0])"
   ]
  },
  {
   "cell_type": "code",
   "execution_count": 48,
   "metadata": {
    "collapsed": false
   },
   "outputs": [
    {
     "ename": "IndexError",
     "evalue": "list index out of range",
     "output_type": "error",
     "traceback": [
      "\u001b[0;31m---------------------------------------------------------------------------\u001b[0m",
      "\u001b[0;31mIndexError\u001b[0m                                Traceback (most recent call last)",
      "\u001b[0;32m<ipython-input-48-12e59118f7a5>\u001b[0m in \u001b[0;36m<module>\u001b[0;34m()\u001b[0m\n\u001b[1;32m      6\u001b[0m \u001b[0mSy\u001b[0m\u001b[0;34m=\u001b[0m\u001b[0;34m[\u001b[0m\u001b[0;34m]\u001b[0m\u001b[0;34m\u001b[0m\u001b[0m\n\u001b[1;32m      7\u001b[0m \u001b[0;32mfor\u001b[0m \u001b[0mi\u001b[0m \u001b[0;32min\u001b[0m \u001b[0mrange\u001b[0m\u001b[0;34m(\u001b[0m\u001b[0;36m778\u001b[0m\u001b[0;34m)\u001b[0m\u001b[0;34m:\u001b[0m\u001b[0;34m\u001b[0m\u001b[0m\n\u001b[0;32m----> 8\u001b[0;31m     \u001b[0;32mif\u001b[0m \u001b[0muser_label_list_3class\u001b[0m\u001b[0;34m[\u001b[0m\u001b[0mi\u001b[0m\u001b[0;34m]\u001b[0m\u001b[0;34m==\u001b[0m\u001b[0;34m-\u001b[0m\u001b[0;36m1\u001b[0m\u001b[0;34m:\u001b[0m\u001b[0;34m\u001b[0m\u001b[0m\n\u001b[0m\u001b[1;32m      9\u001b[0m         \u001b[0mRx\u001b[0m\u001b[0;34m.\u001b[0m\u001b[0mappend\u001b[0m\u001b[0;34m(\u001b[0m\u001b[0mX_pca\u001b[0m\u001b[0;34m[\u001b[0m\u001b[0mi\u001b[0m\u001b[0;34m,\u001b[0m\u001b[0;36m0\u001b[0m\u001b[0;34m]\u001b[0m\u001b[0;34m)\u001b[0m\u001b[0;34m\u001b[0m\u001b[0m\n\u001b[1;32m     10\u001b[0m         \u001b[0mRy\u001b[0m\u001b[0;34m.\u001b[0m\u001b[0mappend\u001b[0m\u001b[0;34m(\u001b[0m\u001b[0mX_pca\u001b[0m\u001b[0;34m[\u001b[0m\u001b[0mi\u001b[0m\u001b[0;34m,\u001b[0m\u001b[0;36m1\u001b[0m\u001b[0;34m]\u001b[0m\u001b[0;34m)\u001b[0m\u001b[0;34m\u001b[0m\u001b[0m\n",
      "\u001b[0;31mIndexError\u001b[0m: list index out of range"
     ]
    }
   ],
   "source": [
    "Rx=[]\n",
    "Ry=[]\n",
    "Vx=[]\n",
    "Vy=[]\n",
    "Sx=[]\n",
    "Sy=[]\n",
    "for i in range(778):\n",
    "    if user_label_list_3class[i]==-1:\n",
    "        Rx.append(X_pca[i,0])\n",
    "        Ry.append(X_pca[i,1])\n",
    "    if user_label_list_3class[i]==0:\n",
    "        Vx.append(X_pca[i,0])\n",
    "        Vy.append(X_pca[i,1])\n",
    "    if user_label_list_3class[i]==1:\n",
    "        Sx.append(X_pca[i,0])\n",
    "        Sy.append(X_pca[i,1])"
   ]
  },
  {
   "cell_type": "code",
   "execution_count": 385,
   "metadata": {
    "collapsed": false
   },
   "outputs": [
    {
     "data": {
      "text/plain": [
       "<matplotlib.text.Text at 0x17a6e6210>"
      ]
     },
     "execution_count": 385,
     "metadata": {},
     "output_type": "execute_result"
    },
    {
     "data": {
      "image/png": "[encoded data removed]",
      "text/plain": [
       "<matplotlib.figure.Figure at 0x156e25350>"
      ]
     },
     "metadata": {},
     "output_type": "display_data"
    }
   ],
   "source": [
    "%matplotlib inline\n",
    "plt.scatter(Rx,Ry,c='red',label='Risk')\n",
    "plt.scatter(Vx,Vy,c='blue',label='Volatile')\n",
    "plt.scatter(Sx,Sy,c='yellow',label='Safe')\n",
    "plt.legend()\n",
    "plt.xlabel('PCA 1')\n",
    "plt.ylabel('PCA 2')"
   ]
  },
  {
   "cell_type": "code",
   "execution_count": 381,
   "metadata": {
    "collapsed": false
   },
   "outputs": [
    {
     "data": {
      "text/plain": [
       "1.169016326186283e-13"
      ]
     },
     "execution_count": 381,
     "metadata": {},
     "output_type": "execute_result"
    }
   ],
   "source": [
    "max(Vx)"
   ]
  },
  {
   "cell_type": "code",
   "execution_count": 52,
   "metadata": {
    "collapsed": false
   },
   "outputs": [
    {
     "data": {
      "text/plain": [
       "CountVectorizer(analyzer=u'word', binary=False, decode_error=u'strict',\n",
       "        dtype=<type 'numpy.int64'>, encoding=u'utf-8', input=u'content',\n",
       "        lowercase=True, max_df=1.0, max_features=100, min_df=1,\n",
       "        ngram_range=(1, 1), preprocessor=None, stop_words=None,\n",
       "        strip_accents=None, token_pattern=u'(?u)\\\\b\\\\w\\\\w+\\\\b',\n",
       "        tokenizer=None, vocabulary=None)"
      ]
     },
     "execution_count": 52,
     "metadata": {},
     "output_type": "execute_result"
    }
   ],
   "source": [
    "a=CountVectorizer(max_features=100)\n",
    "a.fit(X)"
   ]
  },
  {
   "cell_type": "code",
   "execution_count": 53,
   "metadata": {
    "collapsed": false
   },
   "outputs": [
    {
     "data": {
      "text/plain": [
       "{u'00': 0,\n",
       " u'01': 1,\n",
       " u'02': 2,\n",
       " u'03': 3,\n",
       " u'04': 4,\n",
       " u'05': 5,\n",
       " u'07': 6,\n",
       " u'08': 7,\n",
       " u'09': 8,\n",
       " u'10': 9,\n",
       " u'11': 10,\n",
       " u'12': 11,\n",
       " u'13': 12,\n",
       " u'15': 13,\n",
       " u'16': 14,\n",
       " u'17': 15,\n",
       " u'18': 16,\n",
       " u'19': 17,\n",
       " u'20': 18,\n",
       " u'2015': 19,\n",
       " u'2016': 20,\n",
       " u'21': 21,\n",
       " u'22': 22,\n",
       " u'23': 23,\n",
       " u'25': 24,\n",
       " u'27': 25,\n",
       " u'28': 26,\n",
       " u'30': 27,\n",
       " u'31': 28,\n",
       " u'32': 29,\n",
       " u'33': 30,\n",
       " u'34': 31,\n",
       " u'35': 32,\n",
       " u'50': 33,\n",
       " u'alice': 34,\n",
       " u'an': 35,\n",
       " u'and': 36,\n",
       " u'april': 37,\n",
       " u'as': 38,\n",
       " u'but': 39,\n",
       " u'card': 40,\n",
       " u'day': 41,\n",
       " u'december': 42,\n",
       " u'did': 43,\n",
       " u'didn': 44,\n",
       " u'due': 45,\n",
       " u'february': 46,\n",
       " u'fname': 47,\n",
       " u'for': 48,\n",
       " u'friday': 49,\n",
       " u'get': 50,\n",
       " u'having': 51,\n",
       " u'if': 52,\n",
       " u'in': 53,\n",
       " u'inbound': 54,\n",
       " u'is': 55,\n",
       " u'it': 56,\n",
       " u'january': 57,\n",
       " u'just': 58,\n",
       " u'love': 59,\n",
       " u'march': 60,\n",
       " u'message': 61,\n",
       " u'metro': 62,\n",
       " u'metrocard': 63,\n",
       " u'monday': 64,\n",
       " u'my': 65,\n",
       " u'next': 66,\n",
       " u'no': 67,\n",
       " u'november': 68,\n",
       " u'october': 69,\n",
       " u'of': 70,\n",
       " u'ok': 71,\n",
       " u'on': 72,\n",
       " u'or': 73,\n",
       " u'outbound': 74,\n",
       " u'payment': 75,\n",
       " u'received': 76,\n",
       " u'reminder': 77,\n",
       " u'reply': 78,\n",
       " u'saturday': 79,\n",
       " u'sent': 80,\n",
       " u'take': 81,\n",
       " u'thank': 82,\n",
       " u'thanks': 83,\n",
       " u'that': 84,\n",
       " u'the': 85,\n",
       " u'thursday': 86,\n",
       " u'to': 87,\n",
       " u'tuesday': 88,\n",
       " u'twilio': 89,\n",
       " u'us': 90,\n",
       " u'user': 91,\n",
       " u'we': 92,\n",
       " u'wednesday': 93,\n",
       " u'will': 94,\n",
       " u'with': 95,\n",
       " u'yes': 96,\n",
       " u'yet': 97,\n",
       " u'you': 98,\n",
       " u'your': 99}"
      ]
     },
     "execution_count": 53,
     "metadata": {},
     "output_type": "execute_result"
    }
   ],
   "source": [
    "a.vocabulary_"
   ]
  },
  {
   "cell_type": "code",
   "execution_count": null,
   "metadata": {
    "collapsed": false
   },
   "outputs": [],
   "source": []
  },
  {
   "cell_type": "code",
   "execution_count": null,
   "metadata": {
    "collapsed": false
   },
   "outputs": [],
   "source": []
  },
  {
   "cell_type": "code",
   "execution_count": null,
   "metadata": {
    "collapsed": true
   },
   "outputs": [],
   "source": []
  },
  {
   "cell_type": "code",
   "execution_count": null,
   "metadata": {
    "collapsed": false
   },
   "outputs": [],
   "source": []
  },
  {
   "cell_type": "code",
   "execution_count": null,
   "metadata": {
    "collapsed": false
   },
   "outputs": [],
   "source": []
  },
  {
   "cell_type": "code",
   "execution_count": null,
   "metadata": {
    "collapsed": true
   },
   "outputs": [],
   "source": []
  }
 ],
 "metadata": {
  "kernelspec": {
   "display_name": "Python 2",
   "language": "python",
   "name": "python2"
  },
  "language_info": {
   "codemirror_mode": {
    "name": "ipython",
    "version": 2
   },
   "file_extension": ".py",
   "mimetype": "text/x-python",
   "name": "python",
   "nbconvert_exporter": "python",
   "pygments_lexer": "ipython2",
   "version": "2.7.11"
  }
 },
 "nbformat": 4,
 "nbformat_minor": 0
}
